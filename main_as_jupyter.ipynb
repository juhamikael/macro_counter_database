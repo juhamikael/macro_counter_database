{
 "cells": [
  {
   "cell_type": "code",
   "execution_count": 2,
   "metadata": {},
   "outputs": [
    {
     "name": "stdout",
     "output_type": "stream",
     "text": [
      "INSERT INTO Foods (id, foodname, amount_g, protein, carbs, fat, kcal, salt, foodtype_id) VALUES \n",
      "(6,'Mandariini', 80, 0.5, 8, 0, 34.0, NULL, 2),\n"
     ]
    }
   ],
   "source": [
    "import pandas as pd\n",
    "\n",
    "df = pd.read_excel(\"data.xlsx\", sheet_name=\"data_food\")\n",
    "\n",
    "queries = []\n",
    "food_table = f\"CREATE TABLE Foods ( id serial primary key, foodname VARCHAR(64), amount_g INT, protein FLOAT, carbs FLOAT, fat FLOAT, kcal INT, salt FLOAT, foodtype_id INT);\"\n",
    "full_query = \"INSERT INTO Foods (id, foodname, amount_g, protein, carbs, fat, kcal, salt, foodtype_id) VALUES \"\n",
    "\n",
    "\n",
    "def check_null(value):\n",
    "    if value == \"nan\":\n",
    "        return \"NULL\"\n",
    "    else:\n",
    "        return value\n",
    "\n",
    "\n",
    "def check_value(value):\n",
    "    if value == \"NULL\":\n",
    "        return \"NULL\"\n",
    "    else:\n",
    "        return int(float(value))\n",
    "\n",
    "\n",
    "sql_query_list = []\n",
    "\n",
    "for ind in df.index:\n",
    "    id = int(df[\"id\"][ind])\n",
    "    food_name = df[\"food\"][ind]\n",
    "    amount = check_null(str(df[\"amount_g\"][ind]))\n",
    "    protein = round(df[\"protein\"][ind], 2)\n",
    "    carbs = round(df[\"carbs\"][ind])\n",
    "    fat = round(df[\"fat\"][ind])\n",
    "\n",
    "    kcal = (protein*4)+(carbs*4)+(fat*9)\n",
    "\n",
    "    salt = check_null(str(df[\"salt\"][ind]))\n",
    "    foodtype_id = check_null(str(df[\"foodtype_id\"][ind]))\n",
    "    sql_query = f\"({id},'{food_name}', {check_value(amount)}, {protein}, {carbs}, {fat}, {kcal}, {salt}, {check_value(foodtype_id)}),\"\n",
    "    sql_query_list.append(sql_query)\n",
    "\n",
    "\n",
    "query_length = len(sql_query_list)-1\n",
    "last_query = sql_query_list[query_length][:-1]\n",
    "add_semicolon = f\"{last_query};\"\n",
    "last_query = add_semicolon\n",
    "sql_query_list.pop()\n",
    "sql_query_list.append(last_query)\n",
    "\n",
    "with open('data_to_sql_query.sql', 'w') as f:\n",
    "    f.write(food_table)\n",
    "    f.write(full_query)\n",
    "    for i in sql_query_list:\n",
    "        f.write(i)\n",
    "\n",
    "\n",
    "#foodname, amount_g, protein, carbs, fat, kcal, salt, foodtype_id\n"
   ]
  },
  {
   "cell_type": "code",
   "execution_count": null,
   "metadata": {},
   "outputs": [],
   "source": []
  }
 ],
 "metadata": {
  "interpreter": {
   "hash": "e3183d985d274c86c5c997ee9c9c05110b4df2cec556ed110603953a4a57cc78"
  },
  "kernelspec": {
   "display_name": "Python 3.10.0 64-bit",
   "language": "python",
   "name": "python3"
  },
  "language_info": {
   "codemirror_mode": {
    "name": "ipython",
    "version": 3
   },
   "file_extension": ".py",
   "mimetype": "text/x-python",
   "name": "python",
   "nbconvert_exporter": "python",
   "pygments_lexer": "ipython3",
   "version": "3.10.0"
  },
  "orig_nbformat": 4
 },
 "nbformat": 4,
 "nbformat_minor": 2
}
